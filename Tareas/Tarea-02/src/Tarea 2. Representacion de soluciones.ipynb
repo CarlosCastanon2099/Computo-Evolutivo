{
 "cells": [
  {
   "cell_type": "code",
   "execution_count": 94,
   "id": "ceeb39ad-27e8-478c-adfa-cbab2feffa84",
   "metadata": {},
   "outputs": [],
   "source": [
    "import numpy as np"
   ]
  },
  {
   "cell_type": "code",
   "execution_count": 80,
   "id": "af9ecd79-ac01-4de5-bf28-16a06185d297",
   "metadata": {},
   "outputs": [],
   "source": [
    "#Ejercicio 1. a)\n",
    "def codifica_aux(decimal,nBit):\n",
    "    #Utilizamos como parametro un número natural en decimal y la cantidad de bits que queremos utilizar en el arreglo para decodificar\n",
    "    binary = np.zeros(nBit,dtype=int)\n",
    "    i = nBit - 1\n",
    "    while decimal > 0:\n",
    "        binary[i] = decimal % 2\n",
    "        #Establecemos ahora al número natural como la división entera del numero anterior\n",
    "        decimal //=2\n",
    "        i-=1\n",
    "    return binary\n",
    "\n",
    "def decodifica_aux(binary):\n",
    "    #Utilizamos como parametros un arreglo de bits e inicializamos un número decimal\n",
    "    decimal = 0 \n",
    "    for i in range(len(binary)):\n",
    "        #Utilizando el algoritmo para convertir de binario a decimal\n",
    "        decimal += binary[i]*2**(len(binary)-i-1)\n",
    "    return decimal"
   ]
  },
  {
   "cell_type": "code",
   "execution_count": 81,
   "id": "29efa466-87ba-4f40-9557-f0f98f0c6902",
   "metadata": {},
   "outputs": [],
   "source": [
    "#Ejercicio 1. c)\n",
    "def codifica(x,nBit,a,b):\n",
    "    # x es el número real que queremos codificar\n",
    "    # nBit es la cantidad de Bits con la que queremos representar el número real\n",
    "    # a es el límite inferior del intervalo donde se encuentra el número a evaluar\n",
    "    # b es el límite superior, es importante que a sea menor que b\n",
    "    # Calculamos la precisión dividiendo la longitud del intervalo entre el número de reales que podemos representar con nBits\n",
    "    precision = (b-a)/(2**nBit)\n",
    "    #Checamos que el número que queremos codificar se encuentra dentro del intervalo\n",
    "    x= max(a,min(b,x))\n",
    "    #Le asignamos una posición en el intervalo a x\n",
    "    index = int((x-a)/precision)\n",
    "    #Convertimos a binario\n",
    "    binary = codifica_aux(index,nBit)\n",
    "    return binary\n",
    "\n",
    "#Ejercicio 1. d)\n",
    "def decodifica(x_cod,nBit,a,b):\n",
    "    #x_cod ahora es el arreglo de bits \n",
    "    precision = (b-a)/(2**nBit)\n",
    "    #Hacemos un proceso inverso a la función de codificación\n",
    "    index = decodifica_aux(x_cod)\n",
    "    #Establecemos al número decimal como x y lo definimos conforme a la función anterior\n",
    "    x = a+ index *precision\n",
    "    return x"
   ]
  },
  {
   "cell_type": "code",
   "execution_count": 96,
   "id": "48a9dc20-b207-4f5d-846a-49efa5581807",
   "metadata": {},
   "outputs": [],
   "source": [
    "#Ejercicio 1. e)\n",
    "def codifica_v(x,nBit,a,b):\n",
    "    binary = list()\n",
    "    #En este caso x es un vector de números reales que queremos codificar\n",
    "    for i in x:\n",
    "        binary.append(codifica(i,nBit,a,b))\n",
    "    return binary\n",
    "\n",
    "def decodifica_v(x_cod,nBit,a,b):\n",
    "    decimal = list()\n",
    "    #x_cod es un vector de arreglos de bits para convertir a decimal\n",
    "    for i in x_cod:\n",
    "        decimal.append(decodifica(i,nBit,a,b))\n",
    "    return decimal        "
   ]
  }
 ],
 "metadata": {
  "kernelspec": {
   "display_name": "Python 3 (ipykernel)",
   "language": "python",
   "name": "python3"
  },
  "language_info": {
   "codemirror_mode": {
    "name": "ipython",
    "version": 3
   },
   "file_extension": ".py",
   "mimetype": "text/x-python",
   "name": "python",
   "nbconvert_exporter": "python",
   "pygments_lexer": "ipython3",
   "version": "3.11.7"
  }
 },
 "nbformat": 4,
 "nbformat_minor": 5
}
