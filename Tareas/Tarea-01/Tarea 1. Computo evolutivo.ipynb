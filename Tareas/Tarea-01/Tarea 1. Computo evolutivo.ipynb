{
 "cells": [
  {
   "cell_type": "code",
   "execution_count": 2,
   "metadata": {},
   "outputs": [],
   "source": [
    "import numpy as np\n",
    "import pandas as pd\n",
    "import math"
   ]
  },
  {
   "cell_type": "code",
   "execution_count": 8,
   "metadata": {},
   "outputs": [],
   "source": [
    "def sum_of_powers(x):\n",
    "    x = pd.Series(x)\n",
    "    d = len(x)\n",
    "    y = sum(abs(x)**(x+1))\n",
    "    return y"
   ]
  },
  {
   "cell_type": "code",
   "execution_count": 9,
   "metadata": {},
   "outputs": [],
   "source": [
    "def zakharov(x):\n",
    "    x = pd.Series(x)\n",
    "    d = len(x)\n",
    "    t1 = sum(x**2)\n",
    "    t2 = 0.5*sum(range(d)*(x**2))\n",
    "    y = t1 + (t2**2) + (t2**4)\n",
    "    return y"
   ]
  },
  {
   "cell_type": "code",
   "execution_count": 10,
   "metadata": {},
   "outputs": [],
   "source": [
    "def schwefel(x):\n",
    "    x = pd.Series(x)\n",
    "    d = len(x)\n",
    "    t1 = 418.9829*d\n",
    "    t2 = sum(x*np.sin(abs(x)**(1/2)))\n",
    "    y = t1-t2\n",
    "    return y"
   ]
  }
 ],
 "metadata": {
  "kernelspec": {
   "display_name": "Python 3",
   "language": "python",
   "name": "python3"
  },
  "language_info": {
   "codemirror_mode": {
    "name": "ipython",
    "version": 3
   },
   "file_extension": ".py",
   "mimetype": "text/x-python",
   "name": "python",
   "nbconvert_exporter": "python",
   "pygments_lexer": "ipython3",
   "version": "3.11.7"
  }
 },
 "nbformat": 4,
 "nbformat_minor": 2
}
