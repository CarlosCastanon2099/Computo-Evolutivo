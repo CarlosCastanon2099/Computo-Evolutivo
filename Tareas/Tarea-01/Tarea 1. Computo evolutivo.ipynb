{
 "cells": [
  {
   "cell_type": "code",
   "execution_count": 2,
   "metadata": {},
   "outputs": [],
   "source": [
    "import numpy as np\n",
    "import pandas as pd\n",
    "import math"
   ]
  },
  {
   "cell_type": "code",
   "execution_count": 3,
   "metadata": {},
   "outputs": [],
   "source": [
    "def sum_of_powers(x):\n",
    "    x = pd.Series(x)\n",
    "    d = len(x)\n",
    "    y = sum(abs(x)**(x+1))\n",
    "    return y"
   ]
  },
  {
   "cell_type": "code",
   "execution_count": 4,
   "metadata": {},
   "outputs": [],
   "source": [
    "def zakharov(x):\n",
    "    x = pd.Series(x)\n",
    "    d = len(x)\n",
    "    t1 = sum(x**2)\n",
    "    t2 = 0.5*sum(range(d)*(x**2))\n",
    "    y = t1 + (t2**2) + (t2**4)\n",
    "    return y"
   ]
  },
  {
   "cell_type": "code",
   "execution_count": 5,
   "metadata": {},
   "outputs": [],
   "source": [
    "def schwefel(x):\n",
    "    x = pd.Series(x)\n",
    "    d = len(x)\n",
    "    t1 = 418.9829*d\n",
    "    t2 = sum(x*np.sin(abs(x)**(1/2)))\n",
    "    y = t1-t2\n",
    "    return y"
   ]
  },
  {
   "cell_type": "code",
   "execution_count": 6,
   "metadata": {},
   "outputs": [],
   "source": [
    "# Funcion de Busqueda Aleatoria\n",
    "def busqueda_aleatoria(funcion_objetivo, dimension, iteraciones, intervalo):\n",
    "    mejor_solucion = np.random.uniform(intervalo[0], intervalo[1], dimension)\n",
    "    mejor_evaluacion = funcion_objetivo(mejor_solucion)\n",
    "    for i in range(iteraciones):\n",
    "        solucion = np.random.uniform(intervalo[0], intervalo[1], dimension)\n",
    "        evaluacion = funcion_objetivo(solucion)\n",
    "        if evaluacion < mejor_evaluacion:\n",
    "            mejor_solucion = solucion\n",
    "            mejor_evaluacion = evaluacion\n",
    "    print('Funcion Objetivo:', funcion_objetivo.__name__)\n",
    "    print('Dimension del problema:', dimension)\n",
    "    print('Total de iteraciones:', iteraciones)\n",
    "    print('Mejor Solucion encontrada:')\n",
    "    print('x =', mejor_solucion)\n",
    "    print('f(x) =', mejor_evaluacion)"
   ]
  },
  {
   "cell_type": "code",
   "execution_count": 7,
   "metadata": {},
   "outputs": [],
   "source": [
    "# Con el uso de pandas y la funcion de busqueda aleatoria generaremos una tabla con los resultados de:\n",
    "# Funcion Objetivo, Dimension del problema, Mejor valor f(x), Valor promedio f(x), Peor valor f(x)\n",
    "# Todo esto considerando que probaremos las dimensiones 2,5 y 10 para todas las funciones objetivo\n",
    "# Ademas de aplicar 1000000 iteraciones para cada prueba\n",
    "\n",
    "def busqueda_aleatoria_pandas(funcion_objetivo, dimension, iteraciones, intervalo):\n",
    "    resultados = []\n",
    "    for d in dimension:\n",
    "        evaluaciones = []\n",
    "        for i in range(iteraciones):\n",
    "            solucion = np.random.uniform(intervalo[0], intervalo[1], d)\n",
    "            evaluacion = funcion_objetivo(solucion)\n",
    "            evaluaciones.append(evaluacion)\n",
    "        resultados.append([funcion_objetivo.__name__, d, min(evaluaciones), np.mean(evaluaciones), max(evaluaciones)])\n",
    "    return pd.DataFrame(resultados, columns=['Funcion Objetivo', 'Dimension', 'Mejor f(x)', 'Promedio f(x)', 'Peor f(x)'])\n",
    "\n",
    "dimension = [2, 5, 10]\n",
    "iteraciones = 1000000\n",
    "intervalo = [-10, 10]\n",
    "\n",
    "resultados = busqueda_aleatoria_pandas(sum_of_powers, dimension, iteraciones, intervalo)"
   ]
  },
  {
   "cell_type": "code",
   "execution_count": 8,
   "metadata": {},
   "outputs": [
    {
     "name": "stdout",
     "output_type": "stream",
     "text": [
      "  Funcion Objetivo  Dimension    Mejor f(x)  Promedio f(x)     Peor f(x)\n",
      "0    sum_of_powers          2  2.098934e-09   2.978298e+09  1.952262e+11\n",
      "1    sum_of_powers          5  4.351890e-08   7.384374e+09  2.500835e+11\n",
      "2    sum_of_powers         10  1.212787e-03   1.481389e+10  2.852122e+11\n"
     ]
    }
   ],
   "source": [
    "# Imprimimos los resultados\n",
    "print(resultados)"
   ]
  }
 ],
 "metadata": {
  "kernelspec": {
   "display_name": "Python 3",
   "language": "python",
   "name": "python3"
  },
  "language_info": {
   "codemirror_mode": {
    "name": "ipython",
    "version": 3
   },
   "file_extension": ".py",
   "mimetype": "text/x-python",
   "name": "python",
   "nbconvert_exporter": "python",
   "pygments_lexer": "ipython3",
   "version": "3.10.12"
  }
 },
 "nbformat": 4,
 "nbformat_minor": 2
}
