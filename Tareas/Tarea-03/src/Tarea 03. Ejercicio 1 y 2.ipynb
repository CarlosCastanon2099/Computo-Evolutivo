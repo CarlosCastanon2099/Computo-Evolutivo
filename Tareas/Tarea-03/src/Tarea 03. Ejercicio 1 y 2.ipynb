{
 "cells": [
  {
   "cell_type": "code",
   "execution_count": 208,
   "id": "773ac6e1-6072-4a0e-b385-2c571bb9aa89",
   "metadata": {},
   "outputs": [],
   "source": [
    "import numpy as np\n",
    "import pandas as pd\n",
    "import random"
   ]
  },
  {
   "cell_type": "code",
   "execution_count": 20,
   "id": "11d54e55-3e57-43d4-9c27-414eb55b3bca",
   "metadata": {},
   "outputs": [],
   "source": [
    "#Implementamos todas las funciones a utilizar\n",
    "def sphere(x):\n",
    "    x = np.array(x)\n",
    "    return sum(x**2)\n",
    "\n",
    "def ackley(x):\n",
    "    x = np.array(x)\n",
    "    t1 = -0.2*np.sqrt(np.mean(x**2))\n",
    "    t2 = np.mean(np.cos(2*np.pi*x))\n",
    "    y = 20+np.exp(1)-20*np.exp(t1)-np.exp(t2)\n",
    "    return y\n",
    "\n",
    "def griewank(x):\n",
    "    x = np.array(x)\n",
    "    i = np.array(range(1,len(x)+1))\n",
    "    t1 = sum(x**2)/4000\n",
    "    t2 = np.prod(np.cos(x/np.sqrt(i)))\n",
    "    return 1 + t1 - t2\n",
    "\n",
    "def rastrigin(x):\n",
    "    x = np.array(x)\n",
    "    t1 = 10*len(x)\n",
    "    t2 = sum(x**2-10*np.cos(2*np.pi*x))\n",
    "    return t1 + t2\n",
    "\n",
    "#La función aplica para parametros mayores o iguales a dos dimensiones\n",
    "def rosenbrock(x):\n",
    "    x = np.array(x)\n",
    "    x1 = x[1:]\n",
    "    x0 = np.delete(x,-1)\n",
    "    t1 = 100*(x1-x0**2)**2\n",
    "    t2 = (1-x0)**2\n",
    "    return sum(t1 + t2)"
   ]
  },
  {
   "cell_type": "code",
   "execution_count": 21,
   "id": "0dd1db9f-1472-445e-a2d9-bb073dca01e6",
   "metadata": {},
   "outputs": [],
   "source": [
    "#Utilizamos las funciones anteriormente programadas\n",
    "def codifica_aux(decimal,nBit):\n",
    "    binary = np.zeros(nBit,dtype=int)\n",
    "    i = nBit - 1\n",
    "    while decimal > 0:\n",
    "        binary[i] = decimal % 2\n",
    "        decimal //=2\n",
    "        i-=1\n",
    "    return binary\n",
    "\n",
    "def decodifica_aux(binary):\n",
    "    decimal = 0 \n",
    "    for i in range(len(binary)):\n",
    "        decimal += binary[i]*2**(len(binary)-i-1)\n",
    "    return decimal\n",
    "\n",
    "def codifica(x,nBit,a,b):\n",
    "    precision = (b-a)/(2**nBit)\n",
    "    x= max(a,min(b,x))\n",
    "    index = int((x-a)/precision)\n",
    "    binary = codifica_aux(index,nBit)\n",
    "    return binary\n",
    "\n",
    "def decodifica(x_cod,nBit,a,b): \n",
    "    precision = (b-a)/(2**nBit)\n",
    "    index = decodifica_aux(x_cod)\n",
    "    x = a+ index *precision\n",
    "    return x\n",
    "\n",
    "def codifica_v(x,nBit,a,b):\n",
    "    binary = list()\n",
    "    for i in x:\n",
    "        binary.append(codifica(i,nBit,a,b))\n",
    "    return binary\n",
    "\n",
    "def decodifica_v(x_cod,nBit,a,b):\n",
    "    decimal = list()\n",
    "    for i in x_cod:\n",
    "        decimal.append(decodifica(i,nBit,a,b))\n",
    "    return decimal "
   ]
  },
  {
   "cell_type": "code",
   "execution_count": 290,
   "id": "0233df9e-69ee-48c7-9fa0-11a83bf8a91e",
   "metadata": {},
   "outputs": [],
   "source": [
    "def busqueda_aleatoria(funcion_objetivo, dimension, iteraciones, intervalo):\n",
    "    mejor_solucion = np.random.uniform(intervalo[0], intervalo[1], dimension)\n",
    "    mejor_evaluacion = funcion_objetivo(mejor_solucion)\n",
    "    \n",
    "    for i in range(iteraciones):\n",
    "        solucion = np.random.uniform(intervalo[0], intervalo[1], dimension)\n",
    "        evaluacion = funcion_objetivo(solucion)\n",
    "        if evaluacion < mejor_evaluacion:\n",
    "            mejor_solucion = solucion\n",
    "            mejor_evaluacion = evaluacion\n",
    "            \n",
    "    return mejor_solucion, mejor_evaluacion"
   ]
  },
  {
   "cell_type": "code",
   "execution_count": 23,
   "id": "b4df1af7-417f-4958-b1d6-8af898253e45",
   "metadata": {},
   "outputs": [],
   "source": [
    "def vecino(solucion):\n",
    "    neighbor = np.copy(solucion)\n",
    "    #Ya que tenemos soluciones binarias y queremos generar un vecino de manera aleatoria\n",
    "    #basta con generar el cambio de un bit de forma aleatoria\n",
    "    indice = np.random.randint(len(neighbor))\n",
    "    neighbor[indice] = 1 - neighbor[indice]\n",
    "    return neighbor"
   ]
  },
  {
   "cell_type": "code",
   "execution_count": 97,
   "id": "9add5308-c153-4766-9cb8-1a936b1dc8a9",
   "metadata": {},
   "outputs": [],
   "source": [
    "#Utilizamos un esquema de enfriamiento con decremento lento para\n",
    "#para poder explorar diferentes soluciones\n",
    "def esquema_enfriamiento(temp,beta=0.01):\n",
    "    return temp/(1+beta*temp)"
   ]
  },
  {
   "cell_type": "code",
   "execution_count": 293,
   "id": "7cf06ea3-1c32-4920-a9cb-c3760d6ada09",
   "metadata": {},
   "outputs": [],
   "source": [
    "def recocido_simulado(temperatura_inicial,temperatura_final,funcion_objetivo, dimension, intervalo,beta=0.01):\n",
    "    mejor_solucion = np.random.uniform(intervalo[0], intervalo[1], dimension)\n",
    "    mejor_evaluacion = funcion_objetivo(mejor_solucion)\n",
    "    #Codificamos la solucion para poder generar un vecino y realizar la pertubacion\n",
    "    solucion = codifica_v(mejor_solucion,100,intervalo[0],intervalo[1])\n",
    "    temperatura = temperatura_inicial\n",
    "\n",
    "    while temperatura > temperatura_final:\n",
    "        #Generamos el vecino a evaluar\n",
    "        nueva_solucion_cod = vecino(solucion)\n",
    "        #Decodificamos para evaluar la solucion \n",
    "        nueva_solucion = decodifica_v(nueva_solucion_cod,100,intervalo[0],intervalo[1])\n",
    "        nueva_evaluacion = funcion_objetivo(nueva_solucion)\n",
    "        delta = nueva_evaluacion - mejor_evaluacion\n",
    "        probabilidad = np.exp(-delta/temperatura)\n",
    "        #Debido a que no todas las funciones necesitan perturbaciones similares\n",
    "        #establecemos un criterio de aceptacion de probabilidad arbitrario aleatorio\n",
    "        criterio = random.random()\n",
    "\n",
    "        if nueva_evaluacion < mejor_evaluacion:\n",
    "            solucion = codifica_v(nueva_solucion,100,intervalo[0],intervalo[1])\n",
    "            mejor_evaluacion = nueva_evaluacion\n",
    "            #Si la probabilidad de que la solucion sea mejor es mayor a nuestro criterio\n",
    "            #aleatorio, entonces aceptamos la nueva solucion generada\n",
    "        elif probabilidad > criterio:\n",
    "            solucion = codifica_v(nueva_solucion,100,intervalo[0],intervalo[1])\n",
    "            mejor_evaluacion = nueva_evaluacion\n",
    "\n",
    "        #Aplicamos el esquema de enfriamiento para reducir la temperatura constantemente\n",
    "        temperatura = esquema_enfriamiento(temperatura,beta)\n",
    "\n",
    "    mejor_solucion = decodifica_v(solucion,100,intervalo[0],intervalo[1])\n",
    "    \n",
    "    return mejor_solucion, mejor_evaluacion"
   ]
  },
  {
   "cell_type": "code",
   "execution_count": 308,
   "id": "6915e5fb-da8f-4e82-9e13-c10c1d46efcd",
   "metadata": {},
   "outputs": [],
   "source": [
    "def resultados(funcion_objetivo,dimension,iteraciones,intervalo):\n",
    "    soluciones_aleatorias = []\n",
    "    soluciones_rs = []\n",
    "    resultados_aleatorios = []\n",
    "    resultados_rs = []\n",
    "    for i in range(iteraciones):\n",
    "        #Decidimos utilizar 100 iteraciones para la busqueda local iterada para balancear el uso de\n",
    "        #recursos en ambos metodos\n",
    "        sol_aleatoria = busqueda_aleatoria(funcion_objetivo, dimension, 10, intervalo)\n",
    "        #Utilizamos los parametros de temperatura inicial y temperatura final como constantes\n",
    "        sol_rs = recocido_simulado(100,0.1,funcion_objetivo,10, intervalo,beta=0.01)\n",
    "        soluciones_aleatorias.append(sol_aleatoria[0])\n",
    "        soluciones_rs.append(sol_rs[0])\n",
    "        resultados_aleatorios.append(sol_aleatoria[1])\n",
    "        resultados_rs.append(sol_rs[1])\n",
    "\n",
    "    return soluciones_aleatorias, soluciones_rs, resultados_aleatorios, resultados_rs"
   ]
  },
  {
   "cell_type": "code",
   "execution_count": 304,
   "id": "443ac459-c568-47f4-a390-f85cda43bf42",
   "metadata": {},
   "outputs": [],
   "source": [
    "#Elegimos un intervalo que aplique para todas\n",
    "intervalo = [-5.12,5.12]\n",
    "dimension = 10\n",
    "iteraciones = 10"
   ]
  },
  {
   "cell_type": "code",
   "execution_count": 310,
   "id": "ea5ebc6d-822a-49d6-b4ef-e467d75f0c3d",
   "metadata": {},
   "outputs": [],
   "source": [
    "resultadosSphere = resultados(sphere, dimension, iteraciones, intervalo)"
   ]
  },
  {
   "cell_type": "code",
   "execution_count": 312,
   "id": "75360747-cc03-4dfa-8a37-f6be9d4adc50",
   "metadata": {},
   "outputs": [],
   "source": [
    "resultadosAckley = resultados(ackley, dimension, iteraciones, intervalo)"
   ]
  },
  {
   "cell_type": "code",
   "execution_count": 313,
   "id": "9ec3c3c0-3d7d-4c6e-8d6f-a4ff565834e0",
   "metadata": {},
   "outputs": [],
   "source": [
    "resultadosGriewank = resultados(griewank, dimension, iteraciones, intervalo)"
   ]
  },
  {
   "cell_type": "code",
   "execution_count": 314,
   "id": "6444c617-e611-478b-930b-26b70dc18d38",
   "metadata": {},
   "outputs": [],
   "source": [
    "resultadosRastrigin = resultados(rastrigin, dimension, iteraciones, intervalo)"
   ]
  },
  {
   "cell_type": "code",
   "execution_count": 315,
   "id": "b7ae784d-5bbe-4c3f-91fd-34c5d1c7ab6d",
   "metadata": {},
   "outputs": [
    {
     "name": "stderr",
     "output_type": "stream",
     "text": [
      "C:\\Users\\danaa\\AppData\\Local\\Temp\\ipykernel_23648\\3208883603.py:12: RuntimeWarning: overflow encountered in exp\n",
      "  probabilidad = np.exp(-delta/temperatura)\n"
     ]
    }
   ],
   "source": [
    "resultadosRosenbrock = resultados(rosenbrock, dimension, iteraciones, intervalo)"
   ]
  },
  {
   "cell_type": "code",
   "execution_count": 338,
   "id": "43b5536f-1b83-4744-951d-0e647569087b",
   "metadata": {},
   "outputs": [],
   "source": [
    "#Funcion auxiliar para generar los .txt de las soluciones\n",
    "def solucion_text(funcion,solutions):\n",
    "    i = 1\n",
    "    for solution in solutions:\n",
    "        nombre_archivo = \"sol_\"+funcion+\"_\"+str(i)+\".txt\"\n",
    "        i += 1\n",
    "        with open(nombre_archivo, \"w\") as archivo:\n",
    "            for sol in solution:\n",
    "                archivo.write(str(sol) + \"\\n\")"
   ]
  },
  {
   "cell_type": "code",
   "execution_count": 339,
   "id": "a9573979-39e5-421a-9eb0-02ee3087ce80",
   "metadata": {},
   "outputs": [],
   "source": [
    "#Guardamos las soluciones generadas\n",
    "solucion_text(\"Sphere\",resultadosSphere[1])\n",
    "solucion_text(\"Ackley\",resultadosAckley[1])\n",
    "solucion_text(\"Griewank\",resultadosGriewank[1])\n",
    "solucion_text(\"Rastrigin\",resultadosRastrigin[1])\n",
    "solucion_text(\"Rosenbrock\",resultadosRosenbrock[1])"
   ]
  },
  {
   "cell_type": "code",
   "execution_count": 340,
   "id": "84217115-0c39-4099-b1e4-c647d2fb288d",
   "metadata": {},
   "outputs": [],
   "source": [
    "#Calculamos las estadisticas\n",
    "def estadisticas(solutions):\n",
    "    statistics = [min(solutions),np.mean(solutions),max(solutions)]\n",
    "    return statistics"
   ]
  },
  {
   "cell_type": "code",
   "execution_count": 351,
   "id": "f088769d-b888-4b7f-8477-0fba37487514",
   "metadata": {},
   "outputs": [],
   "source": [
    "#Calculamos para cada una de las funciones\n",
    "Sphere_aleatorio = estadisticas(resultadosSphere[2])\n",
    "Sphere_rs = estadisticas(resultadosSphere[3])\n",
    "Ackley_aleatorio = estadisticas(resultadosAckley[2])\n",
    "Ackley_rs = estadisticas(resultadosAckley[3])\n",
    "Griewank_aleatorio = estadisticas(resultadosGriewank[2])\n",
    "Griewank_rs = estadisticas(resultadosGriewank[3])\n",
    "Rastrigin_aleatorio = estadisticas(resultadosRastrigin[2])\n",
    "Rastrigin_rs = estadisticas(resultadosRastrigin[3])\n",
    "Rosenbrock_aleatorio = estadisticas(resultadosRosenbrock[2])\n",
    "Rosenbrock_rs = estadisticas(resultadosRosenbrock[3])"
   ]
  },
  {
   "cell_type": "code",
   "execution_count": 352,
   "id": "a40be92f-c45e-422d-9139-124671c1efb1",
   "metadata": {},
   "outputs": [
    {
     "name": "stdout",
     "output_type": "stream",
     "text": [
      "Sphere\n",
      "Busqueda aleatoria [26.757718712499337, 49.24184979081719, 65.88856262087144]\n",
      "Recocido simulado [35.6454713697669, 95.16345770634614, 136.29266921532593]\n",
      "Ackley\n",
      "Busqueda aleatoria [7.823459672279524, 8.934621475647587, 9.533788664288885]\n",
      "Recocido simulado [7.717322946856633, 10.297152829894232, 11.939538319525514]\n",
      "Griewank\n",
      "Busqueda aleatoria [0.9990651242946653, 1.0076333571745864, 1.0160906623617254]\n",
      "Recocido simulado [1.0119226100822711, 1.0187104069256598, 1.0293249775870337]\n",
      "Rastrigin\n",
      "Busqueda aleatoria [112.66269726883138, 137.77819455647835, 183.18828556651647]\n",
      "Recocido simulado [133.54014588713338, 176.35250396516128, 251.83324545629065]\n",
      "Rosenbrock\n",
      "Busqueda aleatoria [12374.013000662266, 45283.92242801597, 86374.48415491161]\n",
      "Recocido simulado [16312.507539063667, 84545.11550079465, 210350.81593012394]\n"
     ]
    }
   ],
   "source": [
    "print(\"Sphere\")\n",
    "print(\"Busqueda aleatoria \" + str(Sphere_aleatorio))\n",
    "print(\"Recocido simulado \" + str(Sphere_rs))\n",
    "print(\"Ackley\")\n",
    "print(\"Busqueda aleatoria \" + str(Ackley_aleatorio))\n",
    "print(\"Recocido simulado \" + str(Ackley_rs))\n",
    "print(\"Griewank\")\n",
    "print(\"Busqueda aleatoria \" + str(Griewank_aleatorio))\n",
    "print(\"Recocido simulado \" + str(Griewank_rs))\n",
    "print(\"Rastrigin\")\n",
    "print(\"Busqueda aleatoria \" + str(Rastrigin_aleatorio))\n",
    "print(\"Recocido simulado \" + str(Rastrigin_rs))\n",
    "print(\"Rosenbrock\")\n",
    "print(\"Busqueda aleatoria \" + str(Rosenbrock_aleatorio))\n",
    "print(\"Recocido simulado \" + str(Rosenbrock_rs))"
   ]
  }
 ],
 "metadata": {
  "kernelspec": {
   "display_name": "Python 3 (ipykernel)",
   "language": "python",
   "name": "python3"
  },
  "language_info": {
   "codemirror_mode": {
    "name": "ipython",
    "version": 3
   },
   "file_extension": ".py",
   "mimetype": "text/x-python",
   "name": "python",
   "nbconvert_exporter": "python",
   "pygments_lexer": "ipython3",
   "version": "3.11.7"
  }
 },
 "nbformat": 4,
 "nbformat_minor": 5
}
